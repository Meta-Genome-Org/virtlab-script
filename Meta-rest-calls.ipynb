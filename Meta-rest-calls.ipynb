{
 "cells": [
  {
   "cell_type": "code",
   "execution_count": 116,
   "id": "a47a6f0b",
   "metadata": {},
   "outputs": [
    {
     "name": "stdout",
     "output_type": "stream",
     "text": [
      "Notebook executed for cdcs version 0.2.0\n"
     ]
    }
   ],
   "source": [
    "from pathlib import Path\n",
    "\n",
    "import cdcs_deprec\n",
    "from cdcs_deprec import CDCS\n",
    "\n",
    "print('Notebook executed for cdcs version', cdcs_deprec.__version__)"
   ]
  },
  {
   "cell_type": "code",
   "execution_count": 196,
   "id": "82ee3253",
   "metadata": {},
   "outputs": [
    {
     "name": "stdout",
     "output_type": "stream",
     "text": [
      "['test_xsd5', 'base material properties', 'metagenome-submission-form-1', 'metagenome-submission-form']\n"
     ]
    }
   ],
   "source": [
    "curator_v2 = CDCS('https://portal.meta-genome.org/', username='')\n",
    "#curator_v2 = CDCS('https://portal.meta-genome.org/', username='', cdcsversion='3.2.0')\n",
    "print(curator_v2.template_titles)"
   ]
  },
  {
   "cell_type": "code",
   "execution_count": 203,
   "id": "cfd09c1d",
   "metadata": {},
   "outputs": [
    {
     "name": "stdout",
     "output_type": "stream",
     "text": [
      "   id                title owner  is_public\n",
      "0  16  frontpage_workspace    12      False\n"
     ]
    }
   ],
   "source": [
    "template=\"metagenome-submission-form-1\"\n",
    "\n",
    "records= curator_v2.query(template=template)\n",
    "print(curator_v2.get_workspaces())"
   ]
  },
  {
   "cell_type": "code",
   "execution_count": 204,
   "id": "b0842307",
   "metadata": {},
   "outputs": [
    {
     "data": {
      "text/html": [
       "<div>\n",
       "<style scoped>\n",
       "    .dataframe tbody tr th:only-of-type {\n",
       "        vertical-align: middle;\n",
       "    }\n",
       "\n",
       "    .dataframe tbody tr th {\n",
       "        vertical-align: top;\n",
       "    }\n",
       "\n",
       "    .dataframe thead th {\n",
       "        text-align: right;\n",
       "    }\n",
       "</style>\n",
       "<table border=\"1\" class=\"dataframe\">\n",
       "  <thead>\n",
       "    <tr style=\"text-align: right;\">\n",
       "      <th></th>\n",
       "      <th>id</th>\n",
       "      <th>template</th>\n",
       "      <th>workspace</th>\n",
       "      <th>user_id</th>\n",
       "      <th>title</th>\n",
       "      <th>xml_content</th>\n",
       "      <th>creation_date</th>\n",
       "      <th>last_modification_date</th>\n",
       "      <th>last_change_date</th>\n",
       "      <th>template_title</th>\n",
       "    </tr>\n",
       "  </thead>\n",
       "  <tbody>\n",
       "    <tr>\n",
       "      <th>0</th>\n",
       "      <td>15</td>\n",
       "      <td>4</td>\n",
       "      <td>16</td>\n",
       "      <td>1</td>\n",
       "      <td>chiral35.xml</td>\n",
       "      <td>&lt;map  xmlns:xsi=\"http://www.w3.org/2001/XMLSch...</td>\n",
       "      <td>2023-02-27 13:10:54.076000+00:00</td>\n",
       "      <td>2023-02-27 13:10:54.076000+00:00</td>\n",
       "      <td>2023-02-27 16:46:31.159000+00:00</td>\n",
       "      <td>metagenome-submission-form-1</td>\n",
       "    </tr>\n",
       "    <tr>\n",
       "      <th>1</th>\n",
       "      <td>14</td>\n",
       "      <td>4</td>\n",
       "      <td>16</td>\n",
       "      <td>1</td>\n",
       "      <td>achiral0.xml</td>\n",
       "      <td>&lt;map  xmlns:xsi=\"http://www.w3.org/2001/XMLSch...</td>\n",
       "      <td>2023-02-27 13:06:41.177000+00:00</td>\n",
       "      <td>2023-02-27 13:06:41.177000+00:00</td>\n",
       "      <td>2023-02-27 16:46:37.051000+00:00</td>\n",
       "      <td>metagenome-submission-form-1</td>\n",
       "    </tr>\n",
       "  </tbody>\n",
       "</table>\n",
       "</div>"
      ],
      "text/plain": [
       "   id  template  workspace user_id         title  \\\n",
       "0  15         4         16       1  chiral35.xml   \n",
       "1  14         4         16       1  achiral0.xml   \n",
       "\n",
       "                                         xml_content  \\\n",
       "0  <map  xmlns:xsi=\"http://www.w3.org/2001/XMLSch...   \n",
       "1  <map  xmlns:xsi=\"http://www.w3.org/2001/XMLSch...   \n",
       "\n",
       "                     creation_date           last_modification_date  \\\n",
       "0 2023-02-27 13:10:54.076000+00:00 2023-02-27 13:10:54.076000+00:00   \n",
       "1 2023-02-27 13:06:41.177000+00:00 2023-02-27 13:06:41.177000+00:00   \n",
       "\n",
       "                  last_change_date                template_title  \n",
       "0 2023-02-27 16:46:31.159000+00:00  metagenome-submission-form-1  \n",
       "1 2023-02-27 16:46:37.051000+00:00  metagenome-submission-form-1  "
      ]
     },
     "execution_count": 204,
     "metadata": {},
     "output_type": "execute_result"
    }
   ],
   "source": [
    "(records)"
   ]
  },
  {
   "cell_type": "code",
   "execution_count": 176,
   "id": "cf5c4176",
   "metadata": {},
   "outputs": [
    {
     "name": "stdout",
     "output_type": "stream",
     "text": [
      "id                                                                       13\n",
      "template                                                                  3\n",
      "workspace                                                              14.0\n",
      "user_id                                                                   1\n",
      "title                                                     achiral0-TEST.xml\n",
      "xml_content               <map  xmlns:xsi=\"http://www.w3.org/2001/XMLSch...\n",
      "creation_date                              2023-02-27 11:45:41.444000+00:00\n",
      "last_modification_date                     2023-02-27 11:45:41.444000+00:00\n",
      "last_change_date                           2023-02-27 11:56:20.148000+00:00\n",
      "template_title                                   metagenome-submission-form\n",
      "Name: 0, dtype: object\n",
      "<class 'str'>\n"
     ]
    }
   ],
   "source": [
    "chiral35_record=records.iloc[0]\n",
    "print(chiral35_record)\n",
    "chiral35_content=chiral35_record.xml_content\n",
    "#print(chiral35_content)\n",
    "print(type(chiral35_content))"
   ]
  },
  {
   "cell_type": "code",
   "execution_count": 111,
   "id": "6716f24d",
   "metadata": {},
   "outputs": [
    {
     "name": "stdout",
     "output_type": "stream",
     "text": [
      "Root element: map\n",
      "<DOM Text node \"'https://po'...\">\n",
      "https://portal.meta-genome.org/rest/blob/download/10/\n"
     ]
    }
   ],
   "source": [
    "import xml.dom.minidom\n",
    "\n",
    "# Parse the XML string into a DOM tree\n",
    "dom_tree = xml.dom.minidom.parseString(chiral35_content)\n",
    "\n",
    "# Get the root element of the DOM tree\n",
    "root_element = dom_tree.documentElement\n",
    "\n",
    "# Print the tag name of the root element\n",
    "print(\"Root element:\", root_element.tagName)\n",
    "\n",
    "pub_data = root_element.getElementsByTagName('metamaterial-publication-info')[0]\n",
    "gen_data = root_element.getElementsByTagName('general-info')[0]\n",
    "bas_data = root_element.getElementsByTagName('base-material-info')[0]\n",
    "met_data = root_element.getElementsByTagName('metamaterial-material-info')[1] \n",
    "met_topol = met_data.getElementsByTagName('metamaterial-topol')[0]\n",
    "met_topol_url_dom = met_topol.getElementsByTagName('URL')[0]\n",
    "met_topol_url = met_topol_url_dom.childNodes[0].nodeValue\n",
    "\n",
    "\n",
    "for child in met_topol_url_dom.childNodes:\n",
    "    print(child)\n",
    "    if child.nodeType == xml.dom.minidom.Node.TEXT_NODE and child.parentNode == met_topol_url_dom:\n",
    "        print(child.nodeValue)\n",
    "\n"
   ]
  },
  {
   "cell_type": "code",
   "execution_count": 74,
   "id": "291c43e2",
   "metadata": {},
   "outputs": [
    {
     "name": "stdout",
     "output_type": "stream",
     "text": [
      "Root element: map\n",
      "Author surname: Duncan\n",
      "Author surname: Chester\n",
      "Author surname: Wang\n",
      "Author surname: Alderson\n",
      "Author surname: Allen\n"
     ]
    }
   ],
   "source": [
    "import xml.dom.minidom\n",
    "# Parse the XML string into a DOM tree\n",
    "dom_tree = xml.dom.minidom.parseString(chiral35_content)\n",
    "\n",
    "# Get the root element of the DOM tree\n",
    "root_element = dom_tree.documentElement\n",
    "\n",
    "# Print the tag name of the root element\n",
    "print(\"Root element:\", root_element.tagName)\n",
    "\n",
    "# Get the publication-authors elements\n",
    "pub_authors = root_element.getElementsByTagName('publication-authors')\n",
    "\n",
    "# Iterate over the publication-authors elements\n",
    "for author_element in pub_authors:\n",
    "    # Get the author-surname element\n",
    "    #surname_element = None\n",
    "    for child_node in author_element.childNodes:\n",
    "        if child_node.nodeType == xml.dom.minidom.Node.ELEMENT_NODE and child_node.tagName == \"author-surname\":\n",
    "            surname_element = child_node\n",
    "            break\n",
    "\n",
    "# Print the author's surname\n",
    "    if surname_element:\n",
    "        print(\"Author surname:\", surname_element.firstChild.nodeValue)\n",
    "    else:\n",
    "        print(\"No author surname found\")\n"
   ]
  },
  {
   "cell_type": "code",
   "execution_count": 90,
   "id": "3ae2469a",
   "metadata": {},
   "outputs": [
    {
     "data": {
      "text/plain": [
       "id                                                             4\n",
       "user_id                                                        1\n",
       "filename                                             chiral0.xml\n",
       "handle         https://portal.meta-genome.org/rest/blob/downl...\n",
       "blob           https://portal.meta-genome.org/rest/blob/user_...\n",
       "checksum                                                    None\n",
       "upload_date                     2023-02-26 12:26:10.878810+00:00\n",
       "pid                                                         None\n",
       "Name: 0, dtype: object"
      ]
     },
     "execution_count": 90,
     "metadata": {},
     "output_type": "execute_result"
    }
   ],
   "source": [
    "curator_v2.get_blobs().iloc[0]"
   ]
  },
  {
   "cell_type": "code",
   "execution_count": 115,
   "id": "9c351719",
   "metadata": {},
   "outputs": [
    {
     "name": "stdout",
     "output_type": "stream",
     "text": [
      "ISO-10303-21;\n",
      "HEADER;\n",
      "FILE_DESCRIPTION (( 'STEP AP214' ),\n",
      "    '1' );\n",
      "FILE_NAME ('Antichiral (0).STEP',\n",
      "    '2023-02-03T11:13:24',\n",
      "    ( '' ),\n",
      "    ( '' ),\n",
      "    'SwSTEP 2.0',\n",
      "    'SolidWorks 2020',\n",
      "    '' );\n",
      "FILE_SCHEMA (( 'AUTOMOTIVE_DESIGN' ));\n",
      "ENDSEC;\n",
      "\n",
      "DATA;\n",
      "#1 = CARTESIAN_POINT ( 'NONE',  ( -31.19472471763791788, -6.721932511502107133, -0.9000000000000000222 ) ) ;\n",
      "#2 = ORIENTED_EDGE ( 'NONE', *, *, #59798, .T. ) ;\n",
      "#3 = EDGE_LOOP ( 'NONE', ( #40649, #85100, #90438, #3808, #76763, #63330, #80924, #56531, #90399, #35002, #7240, #87694, #70625, #80002, #98465, #11820, #59585, #48913, #53985, #49479, #86978, #67563, #24765, #38412, #13444, #99183, #53391, #67750, #11816, #31818, #89243 ) ) ;\n",
      "#4 = CIRCLE ( 'NONE', #66490, 0.5000000000000004441 ) ;\n",
      "#6 = VERTEX_POINT ( 'NONE', #93483 ) ;\n"
     ]
    }
   ],
   "source": [
    "import requests\n",
    "\n",
    "\n",
    "# Download the file and get its content\n",
    "response = requests.get(met_topol_url, auth=('admin', 'PASSWORD HERE'))\n",
    "content = response.text\n",
    "\n",
    "lines = content.splitlines()\n",
    "\n",
    "# Print the first 20 lines\n",
    "for line in lines[:20]:\n",
    "    print(line)\n",
    "\n",
    "# Print the content of the file\n",
    "#print(content)\n",
    "\n"
   ]
  },
  {
   "cell_type": "code",
   "execution_count": 7,
   "id": "e18c398f",
   "metadata": {},
   "outputs": [
    {
     "name": "stdout",
     "output_type": "stream",
     "text": [
      "{'Server': 'nginx/1.23.3', 'Date': 'Thu, 02 Mar 2023 14:07:56 GMT', 'Content-Type': 'application/json', 'Content-Length': '404057', 'Connection': 'keep-alive', 'Vary': 'Accept, Origin, Accept-Language, Cookie', 'Allow': 'GET, POST, HEAD, OPTIONS', 'X-Content-Type-Options': 'nosniff', 'Referrer-Policy': 'same-origin', 'X-Frame-Options': 'DENY', 'Content-Language': 'en', 'Access-Control-Allow-Origin': 'http://localhost:3000', 'Access-Control-Allow-Methods': 'GET, POST, OPTIONS, PUT, DELETE', 'Access-Control-Allow-Headers': 'X-Requested-With, Content-Type, Accept', 'Access-Control-Allow-Credentials': 'true'}\n"
     ]
    }
   ],
   "source": [
    "import requests\n",
    "\n",
    "#api_response = requests.get(\"https://portal.meta-genome.org/rest/workspace/\", auth=(\"frontpage_user\", \"PaperCupCheck443!\"))\n",
    "api_response = requests.get(\"http://192.168.1.161/rest/data/\", auth=(\"test\", \"Nist123!\"))\n",
    "\n",
    "print(api_response.headers)"
   ]
  },
  {
   "cell_type": "code",
   "execution_count": null,
   "id": "4bcecdf9",
   "metadata": {},
   "outputs": [],
   "source": []
  }
 ],
 "metadata": {
  "kernelspec": {
   "display_name": "Python 3 (ipykernel)",
   "language": "python",
   "name": "python3"
  },
  "language_info": {
   "codemirror_mode": {
    "name": "ipython",
    "version": 3
   },
   "file_extension": ".py",
   "mimetype": "text/x-python",
   "name": "python",
   "nbconvert_exporter": "python",
   "pygments_lexer": "ipython3",
   "version": "3.11.1"
  }
 },
 "nbformat": 4,
 "nbformat_minor": 5
}
